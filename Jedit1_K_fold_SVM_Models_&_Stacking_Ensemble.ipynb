{
  "nbformat": 4,
  "nbformat_minor": 0,
  "metadata": {
    "colab": {
      "name": "Jedit1_K-fold_SVM_Models_&_Stacking_Ensemble.ipynb",
      "provenance": []
    },
    "kernelspec": {
      "name": "python3",
      "display_name": "Python 3"
    },
    "language_info": {
      "name": "python"
    },
    "accelerator": "GPU"
  },
  "cells": [
    {
      "cell_type": "code",
      "metadata": {
        "id": "MWEJKuW5U50U"
      },
      "source": [
        "from numpy import mean\n",
        "from numpy import std\n",
        "from sklearn.datasets import make_classification\n",
        "from sklearn.model_selection import cross_val_score\n",
        "from sklearn.model_selection import RepeatedStratifiedKFold\n",
        "from sklearn.svm import SVC\n",
        "from sklearn.ensemble import StackingClassifier\n",
        "from matplotlib import pyplot"
      ],
      "execution_count": 2,
      "outputs": []
    },
    {
      "cell_type": "code",
      "metadata": {
        "id": "4fOug78MF079"
      },
      "source": [
        "import pandas as pd\n",
        "import numpy as np\n",
        "import matplotlib.pyplot as plt"
      ],
      "execution_count": 3,
      "outputs": []
    },
    {
      "cell_type": "code",
      "metadata": {
        "id": "lf5IPK-nFVJ3",
        "colab": {
          "base_uri": "https://localhost:8080/"
        },
        "outputId": "b0da7de0-aae8-4e16-badc-7904ffa9dfb3"
      },
      "source": [
        "from google.colab import drive\n",
        "drive.mount('/content/gdrive')"
      ],
      "execution_count": 4,
      "outputs": [
        {
          "output_type": "stream",
          "name": "stdout",
          "text": [
            "Drive already mounted at /content/gdrive; to attempt to forcibly remount, call drive.mount(\"/content/gdrive\", force_remount=True).\n"
          ]
        }
      ]
    },
    {
      "cell_type": "code",
      "metadata": {
        "id": "lMIDmUVkDxaS",
        "colab": {
          "base_uri": "https://localhost:8080/"
        },
        "outputId": "f2469803-0099-4111-b5f5-b3354c8b2e24"
      },
      "source": [
        "Abhi = pd.read_csv(\"/content/gdrive/MyDrive/jedit1.csv\")\n",
        "Abhi.shape"
      ],
      "execution_count": 5,
      "outputs": [
        {
          "output_type": "execute_result",
          "data": {
            "text/plain": [
              "(492, 8)"
            ]
          },
          "metadata": {},
          "execution_count": 5
        }
      ]
    },
    {
      "cell_type": "code",
      "metadata": {
        "id": "4cpfFTkSELLx",
        "colab": {
          "base_uri": "https://localhost:8080/",
          "height": 204
        },
        "outputId": "7a6c9586-396d-4fdb-c57c-dd62df2e127f"
      },
      "source": [
        "Abhi.head()"
      ],
      "execution_count": 6,
      "outputs": [
        {
          "output_type": "execute_result",
          "data": {
            "text/html": [
              "<div>\n",
              "<style scoped>\n",
              "    .dataframe tbody tr th:only-of-type {\n",
              "        vertical-align: middle;\n",
              "    }\n",
              "\n",
              "    .dataframe tbody tr th {\n",
              "        vertical-align: top;\n",
              "    }\n",
              "\n",
              "    .dataframe thead th {\n",
              "        text-align: right;\n",
              "    }\n",
              "</style>\n",
              "<table border=\"1\" class=\"dataframe\">\n",
              "  <thead>\n",
              "    <tr style=\"text-align: right;\">\n",
              "      <th></th>\n",
              "      <th>wmc</th>\n",
              "      <th>dit</th>\n",
              "      <th>noc</th>\n",
              "      <th>cbo</th>\n",
              "      <th>rfc</th>\n",
              "      <th>lcom</th>\n",
              "      <th>loc</th>\n",
              "      <th>fault</th>\n",
              "    </tr>\n",
              "  </thead>\n",
              "  <tbody>\n",
              "    <tr>\n",
              "      <th>0</th>\n",
              "      <td>2</td>\n",
              "      <td>3</td>\n",
              "      <td>0</td>\n",
              "      <td>9</td>\n",
              "      <td>16</td>\n",
              "      <td>1</td>\n",
              "      <td>113</td>\n",
              "      <td>0</td>\n",
              "    </tr>\n",
              "    <tr>\n",
              "      <th>1</th>\n",
              "      <td>4</td>\n",
              "      <td>3</td>\n",
              "      <td>0</td>\n",
              "      <td>1</td>\n",
              "      <td>8</td>\n",
              "      <td>4</td>\n",
              "      <td>82</td>\n",
              "      <td>0</td>\n",
              "    </tr>\n",
              "    <tr>\n",
              "      <th>2</th>\n",
              "      <td>18</td>\n",
              "      <td>1</td>\n",
              "      <td>0</td>\n",
              "      <td>16</td>\n",
              "      <td>55</td>\n",
              "      <td>0</td>\n",
              "      <td>687</td>\n",
              "      <td>1</td>\n",
              "    </tr>\n",
              "    <tr>\n",
              "      <th>3</th>\n",
              "      <td>6</td>\n",
              "      <td>6</td>\n",
              "      <td>0</td>\n",
              "      <td>4</td>\n",
              "      <td>36</td>\n",
              "      <td>1</td>\n",
              "      <td>464</td>\n",
              "      <td>0</td>\n",
              "    </tr>\n",
              "    <tr>\n",
              "      <th>4</th>\n",
              "      <td>4</td>\n",
              "      <td>1</td>\n",
              "      <td>0</td>\n",
              "      <td>26</td>\n",
              "      <td>29</td>\n",
              "      <td>6</td>\n",
              "      <td>213</td>\n",
              "      <td>0</td>\n",
              "    </tr>\n",
              "  </tbody>\n",
              "</table>\n",
              "</div>"
            ],
            "text/plain": [
              "   wmc  dit  noc  cbo  rfc  lcom  loc  fault\n",
              "0    2    3    0    9   16     1  113      0\n",
              "1    4    3    0    1    8     4   82      0\n",
              "2   18    1    0   16   55     0  687      1\n",
              "3    6    6    0    4   36     1  464      0\n",
              "4    4    1    0   26   29     6  213      0"
            ]
          },
          "metadata": {},
          "execution_count": 6
        }
      ]
    },
    {
      "cell_type": "code",
      "metadata": {
        "id": "-t1gxaepED7D"
      },
      "source": [
        "X = Abhi.drop('fault', axis=1)\n",
        "y = Abhi['fault']"
      ],
      "execution_count": 7,
      "outputs": []
    },
    {
      "cell_type": "code",
      "metadata": {
        "id": "gd88YYhMXckF"
      },
      "source": [
        "def get_stacking():\n",
        "\t# define the base models\n",
        "\tlevel0 = list()\n",
        "\tlevel0.append(('sig', SVC(kernel='sigmoid')))\n",
        "\tlevel0.append(('lin', SVC(kernel='linear')))\n",
        "\tlevel0.append(('poly', SVC(kernel='poly')))\n",
        "\tlevel0.append(('rbf', SVC(kernel='rbf')))\n",
        "\t# define meta learner model\n",
        "\tlevel1 = SVC(kernel='rbf')\n",
        "\t# define the stacking ensemble\n",
        "\tmodel = StackingClassifier(estimators=level0, final_estimator=level1, cv=5)\n",
        "\treturn model"
      ],
      "execution_count": 8,
      "outputs": []
    },
    {
      "cell_type": "code",
      "metadata": {
        "id": "SX_qZKaQaL7W"
      },
      "source": [
        "def get_models():\n",
        "\tmodels = dict()\n",
        "\tmodels['lin'] = SVC(kernel='linear')\n",
        "\tmodels['sig'] = SVC(kernel='sigmoid')\n",
        "\tmodels['poly'] = SVC(kernel='poly')\n",
        "\tmodels['rbf'] = SVC(kernel='rbf')\n",
        "\n",
        "\tmodels['stacking'] = get_stacking()\n",
        "\treturn models"
      ],
      "execution_count": 9,
      "outputs": []
    },
    {
      "cell_type": "code",
      "metadata": {
        "id": "nG4-OPfmYkT3"
      },
      "source": [
        "from sklearn.model_selection import KFold\n",
        "from sklearn.model_selection import cross_val_score\n",
        "def evaluate_model(model, X, y):\n",
        "\tkfold_validation=KFold(4)\n",
        "\tscores = cross_val_score(model,X,y,cv=kfold_validation)\n",
        "\treturn scores"
      ],
      "execution_count": 10,
      "outputs": []
    },
    {
      "cell_type": "code",
      "metadata": {
        "id": "Hj8TDCfxY040"
      },
      "source": [
        "models = get_models()"
      ],
      "execution_count": 11,
      "outputs": []
    },
    {
      "cell_type": "code",
      "metadata": {
        "id": "rslDPKqWY4bM",
        "colab": {
          "base_uri": "https://localhost:8080/"
        },
        "outputId": "f633583f-850f-4775-c54e-7140e4e2d19a"
      },
      "source": [
        "results, names = list(), list()\n",
        "for name, model in models.items():\n",
        "\tscores = evaluate_model(model, X, y)\n",
        "\tresults.append(scores)\n",
        "\tnames.append(name)\n",
        "\tprint('>%s %.3f (%.3f)' % (name, mean(scores), std(scores)))"
      ],
      "execution_count": null,
      "outputs": [
        {
          "output_type": "stream",
          "name": "stdout",
          "text": [
            ">lin 0.976 (0.014)\n",
            ">sig 0.970 (0.015)\n",
            ">poly 0.974 (0.013)\n",
            ">rbf 0.976 (0.015)\n"
          ]
        }
      ]
    },
    {
      "cell_type": "code",
      "metadata": {
        "id": "SZgk6RlZY8u1"
      },
      "source": [
        "pyplot.boxplot(results, labels=names, showmeans=True)\n",
        "pyplot.show()"
      ],
      "execution_count": null,
      "outputs": []
    }
  ]
}